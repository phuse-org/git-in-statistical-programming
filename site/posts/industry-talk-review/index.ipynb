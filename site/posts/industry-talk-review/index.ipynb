{
  "cells": [
    {
      "cell_type": "raw",
      "metadata": {},
      "source": [
        "---\n",
        "title: \"Industry Talk Review\"\n",
        "author: \"Rita Pecuch\"\n",
        "date: \"2025-03-29\"\n",
        "categories: [review, git, pharmaceuticals]\n",
        "# format:\n",
        "#   html:\n",
        "#     toc: true\n",
        "#     code-fold: true\n",
        "# bibliography: references.bib\n",
        "# TODO: add the csl file and uncomment\n",
        "# csl: apa.csl  # for APA style citation\n",
        "toc: TRUE\n",
        "toc-title: \"Table of Contents\"\n",
        "toc-depth: 5\n",
        "---"
      ],
      "id": "18a4a0be"
    },
    {
      "cell_type": "markdown",
      "metadata": {},
      "source": [
        "# Introduction\n",
        "\n",
        "Test reference \n",
        "\n",
        "# Search Strategy\n",
        "\n",
        "# Major Themes\n",
        "\n",
        "## Theme 1\n",
        "\n",
        "## Theme 2\n",
        "\n",
        "# Key Findings\n",
        "\n",
        "# Conclusion\n",
        "\n",
        "# References\n",
        "\n",
        "\n",
        "```{bibliography}\n",
        "```"
      ],
      "id": "858e852d"
    }
  ],
  "metadata": {
    "kernelspec": {
      "display_name": "Python 3",
      "language": "python",
      "name": "python3"
    }
  },
  "nbformat": 4,
  "nbformat_minor": 5
}